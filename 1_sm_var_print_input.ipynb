{
  "cells": [
    {
      "cell_type": "markdown",
      "metadata": {
        "id": "-85qMsjleozT"
      },
      "source": [
        "# **Семинар № 1 - Переменные, операторы ввода-вывода**"
      ]
    },
    {
      "cell_type": "markdown",
      "metadata": {
        "id": "8UUOcOcZ_3Vf"
      },
      "source": [
        "### Задания:"
      ]
    },
    {
      "cell_type": "markdown",
      "metadata": {
        "id": "TxiC8sjsc2TS"
      },
      "source": [
        "1. Напишите программу, которая получает информации о пользователе (имя, фамилию, возраст, город).   \n",
        "    \n",
        "Введите ваше имя: Иван.   \n",
        "Введите вашу фамилию: Петров.   \n",
        "Введите ваш возраст: 25.    \n",
        "Введите город проживания: Москва.    \n",
        "\n",
        "<Вывод>    \n",
        "Привет, Иван Петров!     \n",
        "    \n",
        "Ваш профиль:    \n",
        "Возраст: 25.   \n",
        "Город: Москва.   "
      ]
    },
    {
      "cell_type": "code",
      "execution_count": null,
      "metadata": {
        "id": "8CR0ct5__3Vg"
      },
      "outputs": [],
      "source": [
        "print('')"
      ]
    },
    {
      "cell_type": "markdown",
      "metadata": {
        "id": "qexl8EY_iT_x"
      },
      "source": [
        "2. Получить переменную, содержащую строку со значением равным двум в одиннадцатой степени и вывести ее на экран."
      ]
    },
    {
      "cell_type": "code",
      "execution_count": null,
      "metadata": {
        "id": "xBv2yt8B_3Vi"
      },
      "outputs": [],
      "source": []
    },
    {
      "cell_type": "markdown",
      "metadata": {
        "id": "kCSvuJPRoIuu"
      },
      "source": [
        "3.  Напишите программу, которая по данному числу N от 1 до 9 выводит на экран N пингвинов. Изображение одного пингвина имеет размер 5×9 символов, между двумя соседними пингвинами также имеется пустой (из пробелов) столбец. Разрешается вывести пустой столбец после последнего пингвина.    \n",
        "     \n",
        "<Вывод программы>    \n",
        " _~_       _~_      _~_           \n",
        " (o o)    (o o)    (o o)    \n",
        " /  V \\   /  V  \\   / V \\    \n",
        "/(  _  )\\ /( _  )\\ /(  _  )\\      \n",
        "^^ ^^      ^^ ^^    ^^ ^^    "
      ]
    },
    {
      "cell_type": "code",
      "execution_count": null,
      "metadata": {
        "id": "_Go_GRAw_3Vi"
      },
      "outputs": [],
      "source": []
    },
    {
      "cell_type": "markdown",
      "metadata": {
        "id": "eEI3Xqy0p0xW"
      },
      "source": [
        "4. Программа получает на вход числа N и K — натуральные, не превышают 10000.\n",
        "N школьников делят K яблок поровну, не делящийся остаток остается в корзинке.     \n",
        "* Сколько яблок достанется каждому школьнику?\n",
        "N школьников поделили K яблок поровну, не делящийся остаток остался в корзинке.     \n",
        "* Сколько яблок осталось в корзинке?"
      ]
    },
    {
      "cell_type": "code",
      "execution_count": null,
      "metadata": {
        "id": "jhkJILHRtP-C"
      },
      "outputs": [],
      "source": []
    },
    {
      "cell_type": "markdown",
      "metadata": {
        "id": "x58ugtw3_3Vi"
      },
      "source": [
        "5. Дано натуральное число. Выведите его последнюю цифру.     \n",
        "_Пример_   \n",
        "  Входные данные:  179.   \n",
        "  Вывод программы: 9"
      ]
    },
    {
      "cell_type": "code",
      "execution_count": null,
      "metadata": {
        "id": "O_qQciCu_3Vj"
      },
      "outputs": [],
      "source": []
    }
  ],
  "metadata": {
    "colab": {
      "provenance": []
    },
    "kernelspec": {
      "display_name": "Python 3 (ipykernel)",
      "language": "python",
      "name": "python3"
    },
    "language_info": {
      "codemirror_mode": {
        "name": "ipython",
        "version": 3
      },
      "file_extension": ".py",
      "mimetype": "text/x-python",
      "name": "python",
      "nbconvert_exporter": "python",
      "pygments_lexer": "ipython3",
      "version": "3.9.7"
    }
  },
  "nbformat": 4,
  "nbformat_minor": 0
}