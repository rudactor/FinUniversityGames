{
 "cells": [
  {
   "cell_type": "markdown",
   "id": "460db268",
   "metadata": {},
   "source": [
    "<h1>Клондайк</h1>\n",
    "Студенты: Алексеенко Денис, Верещагин Илья <br>\n",
    "Группа: ТРПО25-2\n"
   ]
  },
  {
   "cell_type": "markdown",
   "id": "531f3ac9",
   "metadata": {},
   "source": [
    "Подключаем все необходимые библиотеки. В данном случае нам понадобится библиотека string и элемент из нее printable"
   ]
  },
  {
   "cell_type": "code",
   "execution_count": 1,
   "id": "7298d7f7",
   "metadata": {},
   "outputs": [],
   "source": [
    "from string import printable"
   ]
  },
  {
   "cell_type": "markdown",
   "id": "905bfe6d",
   "metadata": {},
   "source": [
    "Создаем функцию для вывода правил для пользователя"
   ]
  },
  {
   "cell_type": "code",
   "execution_count": 2,
   "id": "aabae4c3",
   "metadata": {},
   "outputs": [],
   "source": [
    "def print_rules() -> str:\n",
    "    return \"\"\"\n",
    "Игра ведётся на игровом поле размером 10 на 10 клеток. \n",
    "Игроки по очереди выставляют в любую свободную клетку по отметке, и тот игрок, \n",
    "после чьего хода получилась цепочка длиной хотя бы в три отметки, проигрывает. \n",
    "При этом в цепочке считаются как свои отметки, так и отметки соперника, у игровых \n",
    "фишек как бы нет хозяина. Цепочка — это ряд фишек, следующая фишка в котором примыкает к \n",
    "предыдущей с любого из восьми направлений.\n",
    "    \"\"\""
   ]
  },
  {
   "cell_type": "markdown",
   "id": "f185b682",
   "metadata": {},
   "source": [
    "Функция для более быстрого вывода матрицы каждый раз, когда наша матрица меняется"
   ]
  },
  {
   "cell_type": "code",
   "execution_count": 3,
   "id": "fc2d51b4",
   "metadata": {},
   "outputs": [],
   "source": [
    "def print_matrix(matrix) -> None:\n",
    "    print(\"  \", *printable[10:20])\n",
    "    for i in range(len(matrix)):\n",
    "        if i == 9:\n",
    "            print(i + 1, *matrix[i])\n",
    "        else:\n",
    "            print(i + 1, \"\", *matrix[i])"
   ]
  },
  {
   "cell_type": "markdown",
   "id": "67665a7e",
   "metadata": {},
   "source": [
    "Функция для создания матрицы"
   ]
  },
  {
   "cell_type": "code",
   "execution_count": 4,
   "id": "fb2846d0",
   "metadata": {},
   "outputs": [],
   "source": [
    "def create_matrix() -> list:\n",
    "    return [[0] * 10 for _ in range(10)]"
   ]
  },
  {
   "cell_type": "markdown",
   "id": "89fc7e62",
   "metadata": {},
   "source": [
    "По букве введенной пользователя, отбираем цифру по x для отображения на матрице"
   ]
  },
  {
   "cell_type": "code",
   "execution_count": 5,
   "id": "bb36149a",
   "metadata": {},
   "outputs": [],
   "source": [
    "def return_number_columns(letter) -> dict:\n",
    "    dict = {printable[10:20][i]: i for i in range(10)}\n",
    "    return dict[letter]"
   ]
  },
  {
   "cell_type": "markdown",
   "id": "f4e135f0",
   "metadata": {},
   "source": [
    "Проверка на победу"
   ]
  },
  {
   "cell_type": "code",
   "execution_count": 6,
   "id": "089f8381",
   "metadata": {},
   "outputs": [],
   "source": [
    "def check_winner(matrix, row, col) -> bool:\n",
    "    directions = [(0, 1), (1, 0), (1, 1), (1, -1)]\n",
    "    n = 10\n",
    "\n",
    "    for dr, dc in directions:\n",
    "        count = 1\n",
    "        r, c = row + dr, col + dc\n",
    "        while 0 <= r < n and 0 <= c < n and matrix[r][c] == 1:\n",
    "            count += 1\n",
    "            r += dr\n",
    "            c += dc\n",
    "        r, c = row - dr, col - dc\n",
    "        while 0 <= r < n and 0 <= c < n and matrix[r][c] == 1:\n",
    "            count += 1\n",
    "            r -= dr\n",
    "            c -= dc\n",
    "\n",
    "        if count >= 3:\n",
    "            return True\n",
    "\n",
    "    return False"
   ]
  },
  {
   "cell_type": "markdown",
   "id": "4200d0a6",
   "metadata": {},
   "source": [
    "Проверка условия заполненности поля, для ничьи"
   ]
  },
  {
   "cell_type": "code",
   "execution_count": 7,
   "id": "c02d8d0e",
   "metadata": {},
   "outputs": [],
   "source": [
    "def check_board_full(matrix):\n",
    "    for i in range(len(matrix)):\n",
    "        for j in range(len(matrix[i])):\n",
    "            if matrix[i][j] == 0:\n",
    "                return False\n",
    "    return True"
   ]
  },
  {
   "cell_type": "markdown",
   "id": "15daa534",
   "metadata": {},
   "source": [
    "Смена хода игрока"
   ]
  },
  {
   "cell_type": "code",
   "execution_count": 8,
   "id": "edd16229",
   "metadata": {},
   "outputs": [],
   "source": [
    "def change_move(player) -> int:\n",
    "    if player == 1:\n",
    "        return 0\n",
    "    else:\n",
    "        return 1"
   ]
  },
  {
   "cell_type": "markdown",
   "id": "598531e8",
   "metadata": {},
   "source": [
    "Получение данных от пользователя и преобразование данных"
   ]
  },
  {
   "cell_type": "code",
   "execution_count": 9,
   "id": "2624e3a0",
   "metadata": {},
   "outputs": [],
   "source": [
    "def ask_for_move() -> tuple:\n",
    "    move = input(\"Сделайте следующий ход: \")\n",
    "    try:\n",
    "        letter = \"\".join([ch for ch in move if ch.isalpha()])\n",
    "        digit = int(\"\".join([ch for ch in move if ch.isdigit()]))\n",
    "        if len(letter)==1 and (len(str(digit))==1 or digit == 10):\n",
    "            pass\n",
    "        else:\n",
    "            print(\"Вы ввели неправильные координаты. Попробуйте еще раз.\")\n",
    "            return ask_for_move()\n",
    "    except:\n",
    "        print(\"Вы ввели неправильные координаты. Попробуйте еще раз.\")\n",
    "        return ask_for_move()\n",
    "\n",
    "    if (not letter or not digit) or (letter < \"a\" or letter > \"j\") or (digit < 1 or digit > 10) or (matrix[digit - 1][return_number_columns(letter)] == 1):\n",
    "        if matrix[digit - 1][return_number_columns(letter)] == 1:\n",
    "            print(\"Данная ячейка уже занята. Попробуйте еще раз\")\n",
    "            return ask_for_move()\n",
    "        else:\n",
    "            print(\"Вы ввели неправильные координаты. Попробуйте еще раз.\")\n",
    "            return ask_for_move()\n",
    "    else:\n",
    "        return digit, letter"
   ]
  },
  {
   "cell_type": "markdown",
   "id": "193c6400",
   "metadata": {},
   "source": [
    "Главная логика игры"
   ]
  },
  {
   "cell_type": "code",
   "execution_count": null,
   "id": "a2112ce4",
   "metadata": {},
   "outputs": [
    {
     "name": "stdout",
     "output_type": "stream",
     "text": [
      "   a b c d e f g h i j\n",
      "1  0 0 0 0 0 0 0 0 0 0\n",
      "2  0 0 0 0 0 0 0 0 0 0\n",
      "3  0 0 0 0 0 0 0 0 0 0\n",
      "4  0 0 0 0 0 0 0 0 0 0\n",
      "5  0 0 0 0 0 0 0 0 0 0\n",
      "6  0 0 0 0 0 0 0 0 0 0\n",
      "7  0 0 0 0 0 0 0 0 0 0\n",
      "8  0 0 0 0 0 0 0 0 0 0\n",
      "9  0 0 0 0 0 0 0 0 0 0\n",
      "10 0 0 0 0 0 0 0 0 0 0\n",
      "\n",
      "Игра ведётся на игровом поле размером 10 на 10 клеток. \n",
      "Игроки по очереди выставляют в любую свободную клетку по отметке, и тот игрок, \n",
      "после чьего хода получилась цепочка длиной хотя бы в три отметки, проигрывает. \n",
      "При этом в цепочке считаются как свои отметки, так и отметки соперника, у игровых \n",
      "фишек как бы нет хозяина. Цепочка — это ряд фишек, следующая фишка в котором примыкает к \n",
      "предыдущей с любого из восьми направлений.\n",
      "    \n",
      "Ход игрока под именем 1\n",
      "   a b c d e f g h i j\n",
      "1  1 0 0 0 0 0 0 0 0 0\n",
      "2  0 0 0 0 0 0 0 0 0 0\n",
      "3  0 0 0 0 0 0 0 0 0 0\n",
      "4  0 0 0 0 0 0 0 0 0 0\n",
      "5  0 0 0 0 0 0 0 0 0 0\n",
      "6  0 0 0 0 0 0 0 0 0 0\n",
      "7  0 0 0 0 0 0 0 0 0 0\n",
      "8  0 0 0 0 0 0 0 0 0 0\n",
      "9  0 0 0 0 0 0 0 0 0 0\n",
      "10 0 0 0 0 0 0 0 0 0 0\n",
      "Ход игрока под именем 2\n",
      "   a b c d e f g h i j\n",
      "1  1 0 0 0 0 0 0 0 0 0\n",
      "2  1 0 0 0 0 0 0 0 0 0\n",
      "3  0 0 0 0 0 0 0 0 0 0\n",
      "4  0 0 0 0 0 0 0 0 0 0\n",
      "5  0 0 0 0 0 0 0 0 0 0\n",
      "6  0 0 0 0 0 0 0 0 0 0\n",
      "7  0 0 0 0 0 0 0 0 0 0\n",
      "8  0 0 0 0 0 0 0 0 0 0\n",
      "9  0 0 0 0 0 0 0 0 0 0\n",
      "10 0 0 0 0 0 0 0 0 0 0\n",
      "Ход игрока под именем 1\n",
      "   a b c d e f g h i j\n",
      "1  1 0 0 0 0 0 0 0 0 0\n",
      "2  1 0 0 0 0 0 0 0 0 0\n",
      "3  1 0 0 0 0 0 0 0 0 0\n",
      "4  0 0 0 0 0 0 0 0 0 0\n",
      "5  0 0 0 0 0 0 0 0 0 0\n",
      "6  0 0 0 0 0 0 0 0 0 0\n",
      "7  0 0 0 0 0 0 0 0 0 0\n",
      "8  0 0 0 0 0 0 0 0 0 0\n",
      "9  0 0 0 0 0 0 0 0 0 0\n",
      "10 0 0 0 0 0 0 0 0 0 0\n",
      "Игрок 1 выйграл\n"
     ]
    }
   ],
   "source": [
    "matrix = create_matrix()\n",
    "player = 0\n",
    "\n",
    "print_matrix(matrix)\n",
    "print(print_rules())\n",
    "\n",
    "name_first = input(\"Введите имя первого игрока: \")\n",
    "name_second = input(\"Введите имя второго игрока: \")\n",
    "\n",
    "while True:\n",
    "    current_name = name_first if player == 0 else name_second\n",
    "    print(f\"Ход игрока под именем {current_name}\")\n",
    "    \n",
    "    row_number, letter = ask_for_move()\n",
    "    column_number = return_number_columns(letter)\n",
    "    \n",
    "    matrix[row_number - 1][column_number] = 1\n",
    "    \n",
    "    print_matrix(matrix)\n",
    "    \n",
    "    if check_winner(matrix, row_number - 1, column_number):\n",
    "        print(f\"Игрок {current_name} проиграл\")\n",
    "        break\n",
    "    \n",
    "    if check_board_full(matrix):\n",
    "        print(\"Ничья\")\n",
    "        break\n",
    "\n",
    "    player = change_move(player)\n",
    "    "
   ]
  }
 ],
 "metadata": {
  "kernelspec": {
   "display_name": "Python 3",
   "language": "python",
   "name": "python3"
  },
  "language_info": {
   "codemirror_mode": {
    "name": "ipython",
    "version": 3
   },
   "file_extension": ".py",
   "mimetype": "text/x-python",
   "name": "python",
   "nbconvert_exporter": "python",
   "pygments_lexer": "ipython3",
   "version": "3.9.6"
  }
 },
 "nbformat": 4,
 "nbformat_minor": 5
}
