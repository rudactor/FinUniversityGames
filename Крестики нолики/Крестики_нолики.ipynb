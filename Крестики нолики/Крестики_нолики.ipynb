{
 "cells": [
  {
   "cell_type": "markdown",
   "id": "24789cf5",
   "metadata": {},
   "source": [
    "Крестики нолики\n",
    "by:\n",
    "    <h3> Никита Харченко</h3>\n",
    "В чём заключается работа программы:"
   ]
  },
  {
   "cell_type": "markdown",
   "id": "1b6aec72",
   "metadata": {},
   "source": [
    "Функция \"draw_board\" выводит на экран поле для игры в крестики нолики."
   ]
  },
  {
   "cell_type": "code",
   "execution_count": null,
   "id": "7b7b2bfa",
   "metadata": {},
   "outputs": [],
   "source": [
    "def draw_board(board):\n",
    "    print(\"-\" * 13)\n",
    "    for i in range(3):\n",
    "        print(\"|\", board[0 + i * 3], \"|\", board[1 + i * 3], \"|\", board[2 + i * 3], \"|\")\n",
    "        print(\"-\" * 13)"
   ]
  },
  {
   "cell_type": "markdown",
   "id": "d122b9ba",
   "metadata": {},
   "source": [
    "Функция \"take_input\" проводит проверку введёх данных, тем самым исключает ошибки и предупреждает игрока о некоректном вводе."
   ]
  },
  {
   "cell_type": "code",
   "execution_count": null,
   "id": "20d288da",
   "metadata": {},
   "outputs": [],
   "source": [
    "def take_input(player_token, player_name):\n",
    "    valid = False\n",
    "    while not valid:\n",
    "        player_answer = input(f\"ход делает {player_name} \\nКуда поставим {player_token}? \")\n",
    "        try:\n",
    "            player_answer = int(player_answer)\n",
    "        except ValueError:\n",
    "            print(\"Некорректный ввод. Вы уверены, что ввели число?\")\n",
    "            continue\n",
    "        if 1 <= player_answer <= 9:\n",
    "            if str(board[player_answer - 1]) not in \"XO\":\n",
    "                board[player_answer - 1] = player_token\n",
    "                valid = True\n",
    "            else:\n",
    "                print(\"Эта клетка уже занята!\")\n",
    "        else:\n",
    "            print(\"Некорректный ввод. Введите число от 1 до 9.\")"
   ]
  },
  {
   "cell_type": "markdown",
   "id": "e82b3a70",
   "metadata": {},
   "source": [
    "Функция \"check_win\" просматривает введенные данные и проверяет их на выйгрышную комбинацию."
   ]
  },
  {
   "cell_type": "code",
   "execution_count": null,
   "id": "efff1ec8",
   "metadata": {},
   "outputs": [],
   "source": [
    "def check_win(board):\n",
    "    win_coord = ((0, 1, 2), (3, 4, 5), (6, 7, 8), (0, 3, 6), (1, 4, 7), (2, 5, 8), (0, 4, 8), (2, 4, 6))\n",
    "    for each in win_coord:\n",
    "        if board[each[0]] == board[each[1]] == board[each[2]]:\n",
    "            return board[each[0]]\n",
    "    return False"
   ]
  },
  {
   "cell_type": "markdown",
   "id": "597ef1a9",
   "metadata": {},
   "source": [
    "Функция \"main\" является основной "
   ]
  },
  {
   "cell_type": "code",
   "execution_count": null,
   "id": "6d36460c",
   "metadata": {},
   "outputs": [],
   "source": [
    "def main(board):\n",
    "    print(\"\"\"Добро пожаловать в игру Крестики нолики!\n",
    "В этой игре опоненты делают поочерёдные ходы крестиком или ноликом,\n",
    "пока один из них не соберёт три одинаковых знака по вертикали, горизонтали или вертикали.\n",
    "Первым ход делает крестик.\"\"\")\n",
    "    player1 = input(\"Кто будет играть за X? \")\n",
    "    player2 = input(\"Кто будет играть за 0? \")\n",
    "    counter = 0\n",
    "    win = False\n",
    "    while not win:\n",
    "        draw_board(board)\n",
    "        if counter % 2 == 0:\n",
    "            take_input(\"X\", player1)\n",
    "        else:\n",
    "            take_input(\"O\", player2)\n",
    "        counter += 1\n",
    "\n",
    "        tmp = check_win(board)\n",
    "        if tmp == 'X':\n",
    "            print(player1, \"выиграл!\")\n",
    "            win = True\n",
    "            break\n",
    "        if tmp == '0':\n",
    "            print(player2, \"выиграл!\")\n",
    "            win = True\n",
    "            break\n",
    "\n",
    "        if counter == 9:\n",
    "            print(\"Ничья!\")\n",
    "            break\n",
    "    draw_board(board)"
   ]
  },
  {
   "cell_type": "code",
   "execution_count": null,
   "id": "3f13529a",
   "metadata": {},
   "outputs": [],
   "source": [
    "main(board)"
   ]
  }
 ],
 "metadata": {
  "kernelspec": {
   "display_name": "Python 3",
   "language": "python",
   "name": "python3"
  },
  "language_info": {
   "name": "python",
   "version": "3.9.6"
  }
 },
 "nbformat": 4,
 "nbformat_minor": 5
}
